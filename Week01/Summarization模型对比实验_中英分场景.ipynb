{
 "cells": [
  {
   "cell_type": "markdown",
   "metadata": {},
   "source": [
    "\n",
    "# Summarization 模型对比实验（中英混合输入）\n",
    "\n",
    "本实验对比以下 2 个主流文本摘要模型在中文、英文与中英混合文本下的表现差异：\n",
    "\n",
    "| 模型名 | 语言 | 架构 | 模型路径 |\n",
    "|--------|------|------|-----------|\n",
    "| BART-large-CNN | 英文 | BART | `facebook/bart-large-cnn` |\n",
    "| t5-base | 英文 | t5-base | `t5-base` |\n",
    "\n",
    "测试文本包含：\n",
    "- 中文文本\n",
    "- 英文文本\n",
    "- 中英混合文本\n",
    "\n",
    "评估对比内容：\n",
    "- 模型摘要输出\n",
    "- 推理耗时\n"
   ]
  },
  {
   "cell_type": "code",
   "execution_count": 1,
   "metadata": {},
   "outputs": [],
   "source": [
    "\n",
    "import time\n",
    "import pandas as pd\n",
    "from transformers import pipeline\n",
    "from difflib import SequenceMatcher\n",
    "import matplotlib.pyplot as plt\n",
    "import numpy as np\n",
    "# 设置中文字体（适配 matplotlib）\n",
    "plt.rcParams['font.family'] = 'SimHei'\n",
    "plt.rcParams['axes.unicode_minus'] = False"
   ]
  },
  {
   "cell_type": "code",
   "execution_count": 2,
   "metadata": {},
   "outputs": [],
   "source": [
    "\n",
    "MODELS = {\n",
    "    \"BART 英文\": \"facebook/bart-large-cnn\",\n",
    "    \"Pegasus 英文\": \"t5-base\"\n",
    "}\n"
   ]
  },
  {
   "cell_type": "code",
   "execution_count": 3,
   "metadata": {},
   "outputs": [],
   "source": [
    "\n",
    "TEXTS = {\n",
    "    \"中文\": \"中国的首都是北京，北京是中国的政治、文化中心，也是历史文化名城，拥有众多名胜古迹。\",\n",
    "    \"英文\": \"Beijing is the capital of China. It is a city with a long history and many cultural heritages.\",\n",
    "    \"中英混合\": \"中国的首都是北京. Beijing is known for its Forbidden City and Great Wall.\"\n",
    "}\n"
   ]
  },
  {
   "cell_type": "code",
   "execution_count": 4,
   "metadata": {},
   "outputs": [
    {
     "name": "stderr",
     "output_type": "stream",
     "text": [
      "D:\\javaTools\\anaconda\\envs\\peft\\lib\\site-packages\\huggingface_hub\\file_download.py:943: FutureWarning: `resume_download` is deprecated and will be removed in version 1.0.0. Downloads always resume when possible. If you want to force a new download, use `force_download=True`.\n",
      "  warnings.warn(\n",
      "Your min_length=10 must be inferior than your max_length=5.\n",
      "D:\\javaTools\\anaconda\\envs\\peft\\lib\\site-packages\\transformers\\generation\\utils.py:1158: UserWarning: Unfeasible length constraints: `min_length` (10) is larger than the maximum possible length (5). Generation will stop at the defined maximum length. You should decrease the minimum length and/or increase the maximum length.\n",
      "  warnings.warn(\n",
      "D:\\javaTools\\anaconda\\envs\\peft\\lib\\site-packages\\transformers\\models\\t5\\tokenization_t5_fast.py:160: FutureWarning: This tokenizer was incorrectly instantiated with a model max length of 512 which will be corrected in Transformers v5.\n",
      "For now, this behavior is kept to avoid breaking backwards compatibility when padding/encoding with `truncation is True`.\n",
      "- Be aware that you SHOULD NOT rely on t5-base automatically truncating your input to 512 when padding/encoding.\n",
      "- If you want to encode/pad to sequences longer than 512 you can either instantiate this tokenizer with `model_max_length` or pass `max_length` when encoding/padding.\n",
      "- To avoid this warning, please instantiate this tokenizer with `model_max_length` set to your preferred value.\n",
      "  warnings.warn(\n",
      "Your min_length=10 must be inferior than your max_length=5.\n"
     ]
    },
    {
     "data": {
      "text/html": [
       "<div>\n",
       "<style scoped>\n",
       "    .dataframe tbody tr th:only-of-type {\n",
       "        vertical-align: middle;\n",
       "    }\n",
       "\n",
       "    .dataframe tbody tr th {\n",
       "        vertical-align: top;\n",
       "    }\n",
       "\n",
       "    .dataframe thead th {\n",
       "        text-align: right;\n",
       "    }\n",
       "</style>\n",
       "<table border=\"1\" class=\"dataframe\">\n",
       "  <thead>\n",
       "    <tr style=\"text-align: right;\">\n",
       "      <th></th>\n",
       "      <th>模型</th>\n",
       "      <th>语言场景</th>\n",
       "      <th>摘要</th>\n",
       "      <th>耗时(秒)</th>\n",
       "    </tr>\n",
       "  </thead>\n",
       "  <tbody>\n",
       "    <tr>\n",
       "      <th>0</th>\n",
       "      <td>BART 英文</td>\n",
       "      <td>中文</td>\n",
       "      <td></td>\n",
       "      <td>1.27</td>\n",
       "    </tr>\n",
       "    <tr>\n",
       "      <th>1</th>\n",
       "      <td>BART 英文</td>\n",
       "      <td>英文</td>\n",
       "      <td>Beijing is the capital of China. It is a city ...</td>\n",
       "      <td>2.17</td>\n",
       "    </tr>\n",
       "    <tr>\n",
       "      <th>2</th>\n",
       "      <td>BART 英文</td>\n",
       "      <td>中英混合</td>\n",
       "      <td>Beijing is known for its Forbidden City and Great</td>\n",
       "      <td>1.53</td>\n",
       "    </tr>\n",
       "    <tr>\n",
       "      <th>3</th>\n",
       "      <td>Pegasus 英文</td>\n",
       "      <td>中文</td>\n",
       "      <td>,</td>\n",
       "      <td>0.57</td>\n",
       "    </tr>\n",
       "    <tr>\n",
       "      <th>4</th>\n",
       "      <td>Pegasus 英文</td>\n",
       "      <td>英文</td>\n",
       "      <td>Beijing is a city with a long history and many...</td>\n",
       "      <td>2.02</td>\n",
       "    </tr>\n",
       "    <tr>\n",
       "      <th>5</th>\n",
       "      <td>Pegasus 英文</td>\n",
       "      <td>中英混合</td>\n",
       "      <td>Beijing is known for its Forbidden City and Gr...</td>\n",
       "      <td>1.26</td>\n",
       "    </tr>\n",
       "  </tbody>\n",
       "</table>\n",
       "</div>"
      ],
      "text/plain": [
       "           模型  语言场景                                                 摘要  耗时(秒)\n",
       "0     BART 英文    中文                                                      1.27\n",
       "1     BART 英文    英文  Beijing is the capital of China. It is a city ...   2.17\n",
       "2     BART 英文  中英混合  Beijing is known for its Forbidden City and Great   1.53\n",
       "3  Pegasus 英文    中文                                                  ,   0.57\n",
       "4  Pegasus 英文    英文  Beijing is a city with a long history and many...   2.02\n",
       "5  Pegasus 英文  中英混合  Beijing is known for its Forbidden City and Gr...   1.26"
      ]
     },
     "execution_count": 4,
     "metadata": {},
     "output_type": "execute_result"
    }
   ],
   "source": [
    "\n",
    "results = []\n",
    "\n",
    "for model_name, model_path in MODELS.items():\n",
    "    summarizer = pipeline(\"summarization\", model=model_path)\n",
    "    for lang, text in TEXTS.items():\n",
    "        start = time.time()\n",
    "        try:\n",
    "            tokens = len(text.split())\n",
    "            max_len = min(60, int(tokens * 0.8) + 5)  # 输出大致比输入短一点\n",
    "            summary = summarizer(text, max_length=max_len, min_length=10, do_sample=False)[0][\"summary_text\"]\n",
    "        except Exception as e:\n",
    "            summary = f\"[ERROR] {str(e)}\"\n",
    "        end = time.time()\n",
    "        results.append({\n",
    "            \"模型\": model_name,\n",
    "            \"语言场景\": lang,\n",
    "            \"摘要\": summary,\n",
    "            \"耗时(秒)\": round(end - start, 2)\n",
    "        })\n",
    "\n",
    "df = pd.DataFrame(results)\n",
    "df\n"
   ]
  },
  {
   "cell_type": "code",
   "execution_count": 5,
   "metadata": {},
   "outputs": [
    {
     "data": {
      "image/png": "[encoded data removed]",
      "text/plain": [
       "<Figure size 800x500 with 1 Axes>"
      ]
     },
     "metadata": {},
     "output_type": "display_data"
    }
   ],
   "source": [
    "# 构建摘要透视表\n",
    "pivot = df.pivot(index=\"模型\", columns=\"语言场景\", values=\"摘要\")\n",
    "\n",
    "# 绘制耗时柱状图\n",
    "avg_time = df.groupby(\"模型\")[\"耗时(秒)\"].mean().reset_index()\n",
    "\n",
    "plt.figure(figsize=(8, 5))\n",
    "bars = plt.bar(avg_time[\"模型\"], avg_time[\"耗时(秒)\"], color=[\"skyblue\", \"salmon\"])\n",
    "plt.title(\"不同模型平均摘要耗时\")\n",
    "plt.ylabel(\"耗时（秒）\")\n",
    "plt.xlabel(\"模型\")\n",
    "plt.grid(axis=\"y\", linestyle=\"--\", alpha=0.6)\n",
    "for bar in bars:\n",
    "    yval = bar.get_height()\n",
    "    plt.text(bar.get_x() + bar.get_width()/2, yval + 0.02, round(yval, 2), ha='center', va='bottom')\n",
    "\n",
    "plt.tight_layout()\n",
    "plt.show()\n",
    "\n"
   ]
  },
  {
   "cell_type": "code",
   "execution_count": null,
   "metadata": {},
   "outputs": [],
   "source": []
  }
 ],
 "metadata": {
  "kernelspec": {
   "display_name": "Python (peft)",
   "language": "python",
   "name": "peft"
  },
  "language_info": {
   "codemirror_mode": {
    "name": "ipython",
    "version": 3
   },
   "file_extension": ".py",
   "mimetype": "text/x-python",
   "name": "python",
   "nbconvert_exporter": "python",
   "pygments_lexer": "ipython3",
   "version": "3.10.18"
  }
 },
 "nbformat": 4,
 "nbformat_minor": 5
}
