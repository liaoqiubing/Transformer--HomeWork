{
 "cells": [
  {
   "cell_type": "markdown",
   "metadata": {},
   "source": [
    "\n",
    "# Audio Classification 模型对比实验\n",
    "\n",
    "对两个音频分类模型进行对比测试，输入为一段语音文件。\n",
    "\n",
    "本实验包含两个主流模型：\n",
    "\n",
    "| 模型名称 | 模型路径 |\n",
    "|----------|-----------|\n",
    "| superb/hubert-base-superb-er | `superb/hubert-base-superb-er` |\n",
    "| ehcalabres/wav2vec2-lg-xlsr-en-speech-emotion-recognition | `ehcalabres/wav2vec2-lg-xlsr-en-speech-emotion-recognition` |\n"
   ]
  },
  {
   "cell_type": "code",
   "execution_count": 1,
   "metadata": {},
   "outputs": [],
   "source": [
    "\n",
    "import time\n",
    "import pandas as pd\n",
    "from transformers import pipeline\n",
    "import os\n",
    "os.environ[\"PATH\"] += os.pathsep + r\"D:\\AITools\\ffmpeg\\ffmpeg-7.1.1-full_build\\bin\"\n",
    "\n"
   ]
  },
  {
   "cell_type": "code",
   "execution_count": 2,
   "metadata": {},
   "outputs": [],
   "source": [
    "\n",
    "MODELS = {'ehcalabres/wav2vec2-lg-xlsr-en-speech-emotion-recognition': 'ehcalabres/wav2vec2-lg-xlsr-en-speech-emotion-recognition', 'superb/hubert-base-superb-er': 'superb/hubert-base-superb-er'}\n"
   ]
  },
  {
   "cell_type": "code",
   "execution_count": 3,
   "metadata": {},
   "outputs": [
    {
     "name": "stderr",
     "output_type": "stream",
     "text": [
      "D:\\javaTools\\anaconda\\envs\\peft\\lib\\site-packages\\huggingface_hub\\file_download.py:943: FutureWarning: `resume_download` is deprecated and will be removed in version 1.0.0. Downloads always resume when possible. If you want to force a new download, use `force_download=True`.\n",
      "  warnings.warn(\n",
      "D:\\javaTools\\anaconda\\envs\\peft\\lib\\site-packages\\transformers\\configuration_utils.py:365: UserWarning: Passing `gradient_checkpointing` to a config initialization is deprecated and will be removed in v5 Transformers. Using `model.gradient_checkpointing_enable()` instead, or if you are using the `Trainer` API, pass `gradient_checkpointing=True` in your `TrainingArguments`.\n",
      "  warnings.warn(\n",
      "Some weights of the model checkpoint at ehcalabres/wav2vec2-lg-xlsr-en-speech-emotion-recognition were not used when initializing Wav2Vec2ForSequenceClassification: ['classifier.dense.bias', 'classifier.dense.weight', 'classifier.output.bias', 'classifier.output.weight', 'wav2vec2.encoder.pos_conv_embed.conv.weight_g', 'wav2vec2.encoder.pos_conv_embed.conv.weight_v']\n",
      "- This IS expected if you are initializing Wav2Vec2ForSequenceClassification from the checkpoint of a model trained on another task or with another architecture (e.g. initializing a BertForSequenceClassification model from a BertForPreTraining model).\n",
      "- This IS NOT expected if you are initializing Wav2Vec2ForSequenceClassification from the checkpoint of a model that you expect to be exactly identical (initializing a BertForSequenceClassification model from a BertForSequenceClassification model).\n",
      "Some weights of Wav2Vec2ForSequenceClassification were not initialized from the model checkpoint at ehcalabres/wav2vec2-lg-xlsr-en-speech-emotion-recognition and are newly initialized: ['classifier.bias', 'classifier.weight', 'projector.bias', 'projector.weight', 'wav2vec2.encoder.pos_conv_embed.conv.parametrizations.weight.original0', 'wav2vec2.encoder.pos_conv_embed.conv.parametrizations.weight.original1']\n",
      "You should probably TRAIN this model on a down-stream task to be able to use it for predictions and inference.\n",
      "Some weights of the model checkpoint at superb/hubert-base-superb-er were not used when initializing HubertForSequenceClassification: ['hubert.encoder.pos_conv_embed.conv.weight_g', 'hubert.encoder.pos_conv_embed.conv.weight_v']\n",
      "- This IS expected if you are initializing HubertForSequenceClassification from the checkpoint of a model trained on another task or with another architecture (e.g. initializing a BertForSequenceClassification model from a BertForPreTraining model).\n",
      "- This IS NOT expected if you are initializing HubertForSequenceClassification from the checkpoint of a model that you expect to be exactly identical (initializing a BertForSequenceClassification model from a BertForSequenceClassification model).\n",
      "Some weights of HubertForSequenceClassification were not initialized from the model checkpoint at superb/hubert-base-superb-er and are newly initialized: ['hubert.encoder.pos_conv_embed.conv.parametrizations.weight.original0', 'hubert.encoder.pos_conv_embed.conv.parametrizations.weight.original1']\n",
      "You should probably TRAIN this model on a down-stream task to be able to use it for predictions and inference.\n"
     ]
    },
    {
     "data": {
      "text/html": [
       "<div>\n",
       "<style scoped>\n",
       "    .dataframe tbody tr th:only-of-type {\n",
       "        vertical-align: middle;\n",
       "    }\n",
       "\n",
       "    .dataframe tbody tr th {\n",
       "        vertical-align: top;\n",
       "    }\n",
       "\n",
       "    .dataframe thead th {\n",
       "        text-align: right;\n",
       "    }\n",
       "</style>\n",
       "<table border=\"1\" class=\"dataframe\">\n",
       "  <thead>\n",
       "    <tr style=\"text-align: right;\">\n",
       "      <th></th>\n",
       "      <th>模型</th>\n",
       "      <th>标签</th>\n",
       "      <th>置信度</th>\n",
       "      <th>耗时(秒)</th>\n",
       "    </tr>\n",
       "  </thead>\n",
       "  <tbody>\n",
       "    <tr>\n",
       "      <th>0</th>\n",
       "      <td>ehcalabres/wav2vec2-lg-xlsr-en-speech-emotion-...</td>\n",
       "      <td>happy</td>\n",
       "      <td>0.1352</td>\n",
       "      <td>9.17</td>\n",
       "    </tr>\n",
       "    <tr>\n",
       "      <th>1</th>\n",
       "      <td>ehcalabres/wav2vec2-lg-xlsr-en-speech-emotion-...</td>\n",
       "      <td>angry</td>\n",
       "      <td>0.1279</td>\n",
       "      <td>9.17</td>\n",
       "    </tr>\n",
       "    <tr>\n",
       "      <th>2</th>\n",
       "      <td>ehcalabres/wav2vec2-lg-xlsr-en-speech-emotion-...</td>\n",
       "      <td>disgust</td>\n",
       "      <td>0.1265</td>\n",
       "      <td>9.17</td>\n",
       "    </tr>\n",
       "    <tr>\n",
       "      <th>3</th>\n",
       "      <td>ehcalabres/wav2vec2-lg-xlsr-en-speech-emotion-...</td>\n",
       "      <td>fearful</td>\n",
       "      <td>0.1256</td>\n",
       "      <td>9.17</td>\n",
       "    </tr>\n",
       "    <tr>\n",
       "      <th>4</th>\n",
       "      <td>ehcalabres/wav2vec2-lg-xlsr-en-speech-emotion-...</td>\n",
       "      <td>sad</td>\n",
       "      <td>0.1241</td>\n",
       "      <td>9.17</td>\n",
       "    </tr>\n",
       "    <tr>\n",
       "      <th>5</th>\n",
       "      <td>superb/hubert-base-superb-er</td>\n",
       "      <td>hap</td>\n",
       "      <td>0.4532</td>\n",
       "      <td>4.39</td>\n",
       "    </tr>\n",
       "    <tr>\n",
       "      <th>6</th>\n",
       "      <td>superb/hubert-base-superb-er</td>\n",
       "      <td>sad</td>\n",
       "      <td>0.3622</td>\n",
       "      <td>4.39</td>\n",
       "    </tr>\n",
       "    <tr>\n",
       "      <th>7</th>\n",
       "      <td>superb/hubert-base-superb-er</td>\n",
       "      <td>neu</td>\n",
       "      <td>0.0943</td>\n",
       "      <td>4.39</td>\n",
       "    </tr>\n",
       "    <tr>\n",
       "      <th>8</th>\n",
       "      <td>superb/hubert-base-superb-er</td>\n",
       "      <td>ang</td>\n",
       "      <td>0.0903</td>\n",
       "      <td>4.39</td>\n",
       "    </tr>\n",
       "  </tbody>\n",
       "</table>\n",
       "</div>"
      ],
      "text/plain": [
       "                                                  模型       标签     置信度  耗时(秒)\n",
       "0  ehcalabres/wav2vec2-lg-xlsr-en-speech-emotion-...    happy  0.1352   9.17\n",
       "1  ehcalabres/wav2vec2-lg-xlsr-en-speech-emotion-...    angry  0.1279   9.17\n",
       "2  ehcalabres/wav2vec2-lg-xlsr-en-speech-emotion-...  disgust  0.1265   9.17\n",
       "3  ehcalabres/wav2vec2-lg-xlsr-en-speech-emotion-...  fearful  0.1256   9.17\n",
       "4  ehcalabres/wav2vec2-lg-xlsr-en-speech-emotion-...      sad  0.1241   9.17\n",
       "5                       superb/hubert-base-superb-er      hap  0.4532   4.39\n",
       "6                       superb/hubert-base-superb-er      sad  0.3622   4.39\n",
       "7                       superb/hubert-base-superb-er      neu  0.0943   4.39\n",
       "8                       superb/hubert-base-superb-er      ang  0.0903   4.39"
      ]
     },
     "execution_count": 3,
     "metadata": {},
     "output_type": "execute_result"
    }
   ],
   "source": [
    "\n",
    "AUDIO_PATH = \"https://huggingface.co/datasets/Narsil/asr_dummy/resolve/main/mlk.flac\"\n",
    "\n",
    "results = []\n",
    "for name, model_path in MODELS.items():\n",
    "    classifier = pipeline(\"audio-classification\", model=model_path)\n",
    "    start = time.time()\n",
    "    preds = classifier(AUDIO_PATH)\n",
    "    end = time.time()\n",
    "    for pred in preds:\n",
    "        results.append({\"模型\": name, \"标签\": pred['label'], \"置信度\": round(pred['score'], 4), \"耗时(秒)\": round(end - start, 2)})\n",
    "\n",
    "pd.DataFrame(results)\n"
   ]
  },
  {
   "cell_type": "code",
   "execution_count": null,
   "metadata": {},
   "outputs": [],
   "source": []
  }
 ],
 "metadata": {
  "kernelspec": {
   "display_name": "Python (peft)",
   "language": "python",
   "name": "peft"
  },
  "language_info": {
   "codemirror_mode": {
    "name": "ipython",
    "version": 3
   },
   "file_extension": ".py",
   "mimetype": "text/x-python",
   "name": "python",
   "nbconvert_exporter": "python",
   "pygments_lexer": "ipython3",
   "version": "3.10.18"
  }
 },
 "nbformat": 4,
 "nbformat_minor": 5
}
