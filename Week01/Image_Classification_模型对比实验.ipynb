{
 "cells": [
  {
   "cell_type": "markdown",
   "metadata": {},
   "source": [
    "\n",
    "# Image Classification 模型对比实验\n",
    "\n",
    "对两个图像分类模型进行对比，输入为一张图片。\n",
    "\n",
    "本实验包含两个主流模型：\n",
    "\n",
    "| 模型名称 | 模型路径 |\n",
    "|----------|-----------|\n",
    "| google/vit-base-patch16-224 | `google/vit-base-patch16-224` |\n",
    "| microsoft/resnet-50 | `microsoft/resnet-50` |\n"
   ]
  },
  {
   "cell_type": "code",
   "execution_count": 1,
   "metadata": {},
   "outputs": [],
   "source": [
    "\n",
    "import time\n",
    "import pandas as pd\n",
    "from transformers import pipeline\n"
   ]
  },
  {
   "cell_type": "code",
   "execution_count": 2,
   "metadata": {},
   "outputs": [],
   "source": [
    "\n",
    "MODELS = {'google/vit-base-patch16-224': 'google/vit-base-patch16-224', 'microsoft/resnet-50': 'microsoft/resnet-50'}\n"
   ]
  },
  {
   "cell_type": "code",
   "execution_count": 3,
   "metadata": {},
   "outputs": [
    {
     "name": "stderr",
     "output_type": "stream",
     "text": [
      "D:\\javaTools\\anaconda\\envs\\peft\\lib\\site-packages\\huggingface_hub\\file_download.py:943: FutureWarning: `resume_download` is deprecated and will be removed in version 1.0.0. Downloads always resume when possible. If you want to force a new download, use `force_download=True`.\n",
      "  warnings.warn(\n",
      "Could not find image processor class in the image processor config or the model config. Loading based on pattern matching with the model's feature extractor configuration. Please open a PR/issue to update `preprocessor_config.json` to use `image_processor_type` instead of `feature_extractor_type`. This warning will be removed in v4.40.\n"
     ]
    },
    {
     "data": {
      "text/html": [
       "<div>\n",
       "<style scoped>\n",
       "    .dataframe tbody tr th:only-of-type {\n",
       "        vertical-align: middle;\n",
       "    }\n",
       "\n",
       "    .dataframe tbody tr th {\n",
       "        vertical-align: top;\n",
       "    }\n",
       "\n",
       "    .dataframe thead th {\n",
       "        text-align: right;\n",
       "    }\n",
       "</style>\n",
       "<table border=\"1\" class=\"dataframe\">\n",
       "  <thead>\n",
       "    <tr style=\"text-align: right;\">\n",
       "      <th></th>\n",
       "      <th>模型</th>\n",
       "      <th>标签</th>\n",
       "      <th>置信度</th>\n",
       "      <th>耗时(秒)</th>\n",
       "    </tr>\n",
       "  </thead>\n",
       "  <tbody>\n",
       "    <tr>\n",
       "      <th>0</th>\n",
       "      <td>google/vit-base-patch16-224</td>\n",
       "      <td>tiger, Panthera tigris</td>\n",
       "      <td>0.8858</td>\n",
       "      <td>2.74</td>\n",
       "    </tr>\n",
       "    <tr>\n",
       "      <th>1</th>\n",
       "      <td>microsoft/resnet-50</td>\n",
       "      <td>tiger, Panthera tigris</td>\n",
       "      <td>0.9403</td>\n",
       "      <td>2.44</td>\n",
       "    </tr>\n",
       "  </tbody>\n",
       "</table>\n",
       "</div>"
      ],
      "text/plain": [
       "                            模型                      标签     置信度  耗时(秒)\n",
       "0  google/vit-base-patch16-224  tiger, Panthera tigris  0.8858   2.74\n",
       "1          microsoft/resnet-50  tiger, Panthera tigris  0.9403   2.44"
      ]
     },
     "execution_count": 3,
     "metadata": {},
     "output_type": "execute_result"
    }
   ],
   "source": [
    "\n",
    "IMAGE = \"https://huggingface.co/datasets/mishig/sample_images/resolve/main/tiger.jpg\"\n",
    "\n",
    "results = []\n",
    "for name, model_path in MODELS.items():\n",
    "    clf = pipeline(\"image-classification\", model=model_path)\n",
    "    start = time.time()\n",
    "    out = clf(IMAGE)[0]\n",
    "    end = time.time()\n",
    "    results.append({\"模型\": name, \"标签\": out['label'], \"置信度\": round(out['score'], 4), \"耗时(秒)\": round(end - start, 2)})\n",
    "\n",
    "pd.DataFrame(results)\n"
   ]
  },
  {
   "cell_type": "code",
   "execution_count": null,
   "metadata": {},
   "outputs": [],
   "source": []
  },
  {
   "cell_type": "code",
   "execution_count": null,
   "metadata": {},
   "outputs": [],
   "source": []
  }
 ],
 "metadata": {
  "kernelspec": {
   "display_name": "Python (peft)",
   "language": "python",
   "name": "peft"
  },
  "language_info": {
   "codemirror_mode": {
    "name": "ipython",
    "version": 3
   },
   "file_extension": ".py",
   "mimetype": "text/x-python",
   "name": "python",
   "nbconvert_exporter": "python",
   "pygments_lexer": "ipython3",
   "version": "3.10.18"
  }
 },
 "nbformat": 4,
 "nbformat_minor": 5
}
